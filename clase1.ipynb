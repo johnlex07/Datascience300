{
  "nbformat": 4,
  "nbformat_minor": 0,
  "metadata": {
    "colab": {
      "name": "clase1.ipynb",
      "provenance": [],
      "authorship_tag": "ABX9TyMob1fXLRMJBbJwpGY09Y/v",
      "include_colab_link": true
    },
    "kernelspec": {
      "name": "python3",
      "display_name": "Python 3"
    },
    "language_info": {
      "name": "python"
    }
  },
  "cells": [
    {
      "cell_type": "markdown",
      "metadata": {
        "id": "view-in-github",
        "colab_type": "text"
      },
      "source": [
        "<a href=\"https://colab.research.google.com/github/johnlex07/Datascience300/blob/main/clase1.ipynb\" target=\"_parent\"><img src=\"https://colab.research.google.com/assets/colab-badge.svg\" alt=\"Open In Colab\"/></a>"
      ]
    },
    {
      "cell_type": "code",
      "metadata": {
        "id": "O3dT7gbuPGRE"
      },
      "source": [
        ""
      ],
      "execution_count": null,
      "outputs": []
    },
    {
      "cell_type": "code",
      "metadata": {
        "colab": {
          "base_uri": "https://localhost:8080/"
        },
        "id": "Te5xsvJtDKEH",
        "outputId": "b3f7edcb-b5df-4f13-8291-7414988540b2"
      },
      "source": [
        "mercado_0={}\n",
        "mercado_0['Producto']='Leche'\n",
        "mercado_0['Cantidad']='1'\n",
        "mercado_0['Marca']='Colanta'\n",
        "mercado_0['Envase']='tetrapack'\n",
        "mercado_0['Precio']=3000\n",
        "\n",
        "mercado_1={}\n",
        "mercado_1['Producto']='Arroz'\n",
        "mercado_1['Cantidad']='1'\n",
        "mercado_1['Marca']='ROA'\n",
        "mercado_1['peso']='1libra'\n",
        "mercado_1['Precio']=2500\n",
        "\n",
        "mercado_2={}\n",
        "mercado_2['Producto']='Frijol'\n",
        "mercado_2['Cantidad']='1'\n",
        "mercado_2['Marca']='Nuevo'\n",
        "mercado_2['peso']='1libra'\n",
        "mercado_2['Precio']=1500\n",
        "print(mercado_0)\n",
        "print(mercado_1)\n",
        "print(mercado_2)\n",
        "\n",
        "compra0=mercado_0['Precio']\n",
        "compra1=mercado_1['Precio']\n",
        "compra2=mercado_2['Precio']\n",
        "compratotal=compra0+compra1+compra2\n",
        "\n",
        "porcentaje=(mercado_1['Precio']*100)/mercado_0['Precio']\n",
        "\n",
        "print(\"la compra total es de:\", compratotal)\n",
        "print(\"porcentaje es de:\" , porcentaje)\n",
        "\n",
        "\n",
        "\n",
        "\n"
      ],
      "execution_count": null,
      "outputs": [
        {
          "output_type": "stream",
          "name": "stdout",
          "text": [
            "{'Producto': 'Leche', 'Cantidad': '1', 'Marca': 'Colanta', 'Envase': 'tetrapack', 'Precio': 3000}\n",
            "{'Producto': 'Arroz', 'Cantidad': '1', 'Marca': 'ROA', 'peso': '1libra', 'Precio': 2500}\n",
            "{'Producto': 'Frijol', 'Cantidad': '1', 'Marca': 'Nuevo', 'peso': '1libra', 'Precio': 1500}\n",
            "la compra total es de: 7000\n",
            "porcentaje es de: 83.33333333333333\n"
          ]
        }
      ]
    }
  ]
}