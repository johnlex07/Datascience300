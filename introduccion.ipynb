{
  "nbformat": 4,
  "nbformat_minor": 0,
  "metadata": {
    "colab": {
      "name": "introduccion.ipynb",
      "provenance": [],
      "authorship_tag": "ABX9TyP3S9f+r0hqdnHp6ogj3ltQ",
      "include_colab_link": true
    },
    "kernelspec": {
      "name": "python3",
      "display_name": "Python 3"
    },
    "language_info": {
      "name": "python"
    }
  },
  "cells": [
    {
      "cell_type": "markdown",
      "metadata": {
        "id": "view-in-github",
        "colab_type": "text"
      },
      "source": [
        "<a href=\"https://colab.research.google.com/github/johnlex07/Datascience300/blob/main/introduccion.ipynb\" target=\"_parent\"><img src=\"https://colab.research.google.com/assets/colab-badge.svg\" alt=\"Open In Colab\"/></a>"
      ]
    },
    {
      "cell_type": "code",
      "metadata": {
        "id": "ekwUEjR0oUmn"
      },
      "source": [
        ""
      ],
      "execution_count": null,
      "outputs": []
    },
    {
      "cell_type": "markdown",
      "metadata": {
        "id": "awWEgLMqqhzF"
      },
      "source": [
        "**Introduccion**\n",
        "\n",
        "\n",
        "Para manejar un codigo en Python, vamos a seguir las siguientes recomendaciones:\n",
        "\n",
        "1. Usar siempre minusculas \n",
        "2. Se le puede añadir numeros \n",
        "3. Aparecera error si no estan seguidos la declaracion de la variable con el numero asignado, es decir: luisa1 (correcto) luisa 1 (error - incorrecto).\n",
        "\n",
        "En python hay vars tipos de datos compuestos y estan disponibles por defecto en los interpretes #\n",
        "\n",
        "**¿De que tipos?**\n",
        "1. numericos \n",
        "2. secuencia \n",
        "3. mapeo\n",
        "4. conjunto usados para agrupar valores \n",
        "\n",
        "**Diferencia entre constantes y variables**\n",
        "En matematicas llamamos constantes a una magnitud que no cambia con el paso del tiempo.\n",
        "Ejemplo de contabilidad: Gasto fijo de muebles de la oficina.\n",
        "Ejemplo 2: 6\n",
        "\n",
        "Por otro lado, el concepto de variable, tomaremos la definicion "
      ]
    },
    {
      "cell_type": "code",
      "metadata": {
        "colab": {
          "base_uri": "https://localhost:8080/"
        },
        "id": "flPosMzasvV2",
        "outputId": "55d3a543-0864-4cfe-97e2-7911b9955586"
      },
      "source": [
        "x=80\n",
        "print(x)\n"
      ],
      "execution_count": 1,
      "outputs": [
        {
          "output_type": "stream",
          "name": "stdout",
          "text": [
            "80\n"
          ]
        }
      ]
    },
    {
      "cell_type": "markdown",
      "metadata": {
        "id": "gBih3TGlt93U"
      },
      "source": [
        "**tipo cadena**\n",
        "las cadenas son texto encerrado entre comillas (simples o dobles) y se pueden conformar de diferentes carecteres (numerico, alfabetico, especiales #$%)\n",
        "nota: se puede usar el operador de suma "
      ]
    },
    {
      "cell_type": "code",
      "metadata": {
        "colab": {
          "base_uri": "https://localhost:8080/"
        },
        "id": "0cCmYQygudV6",
        "outputId": "3cc4588f-645d-4056-ad1a-c75783a4cd5d"
      },
      "source": [
        "w=\"mi computador es asus\"\n",
        "print(w)\n"
      ],
      "execution_count": 2,
      "outputs": [
        {
          "output_type": "stream",
          "name": "stdout",
          "text": [
            "mi computador es asus\n"
          ]
        }
      ]
    },
    {
      "cell_type": "code",
      "metadata": {
        "colab": {
          "base_uri": "https://localhost:8080/"
        },
        "id": "bBdidJH_umZK",
        "outputId": "cab4b353-593a-41d5-d497-0abb1bbbfe0c"
      },
      "source": [
        "n=\"aprender\"\n",
        "z=\"python\"\n",
        "dr=n+\" \"+z\n",
        "print(dr)\n",
        "\n",
        "f=56\n",
        "t=34\n",
        "print(f-t)\n",
        "\n"
      ],
      "execution_count": 6,
      "outputs": [
        {
          "output_type": "stream",
          "name": "stdout",
          "text": [
            "aprender python\n",
            "22\n"
          ]
        }
      ]
    },
    {
      "cell_type": "markdown",
      "metadata": {
        "id": "PDOOobqPwVna"
      },
      "source": [
        "**tipo boolenano**\n",
        "Este tipo de varible solo tendra un valor verdadero o falso. \n",
        "Nota: son valores muy usados en condicionales y bucles "
      ]
    },
    {
      "cell_type": "code",
      "metadata": {
        "colab": {
          "base_uri": "https://localhost:8080/"
        },
        "id": "t7SmwiY0wosn",
        "outputId": "fc5244fa-4ba3-48d4-b740-1845bdd5e345"
      },
      "source": [
        "ricardo= True\n",
        "print(\"el valor es verdadero:\",ricardo, \",el cual es de tipo\", type(ricardo))\n"
      ],
      "execution_count": 8,
      "outputs": [
        {
          "output_type": "stream",
          "name": "stdout",
          "text": [
            "el valor es verdadero: True ,el cual es de tipo <class 'bool'>\n"
          ]
        }
      ]
    },
    {
      "cell_type": "code",
      "metadata": {
        "colab": {
          "base_uri": "https://localhost:8080/"
        },
        "id": "Te5xsvJtDKEH",
        "outputId": "b3f7edcb-b5df-4f13-8291-7414988540b2"
      },
      "source": [
        "mercado_0={}\n",
        "mercado_0['Producto']='Leche'\n",
        "mercado_0['Cantidad']='1'\n",
        "mercado_0['Marca']='Colanta'\n",
        "mercado_0['Envase']='tetrapack'\n",
        "mercado_0['Precio']=3000\n",
        "\n",
        "mercado_1={}\n",
        "mercado_1['Producto']='Arroz'\n",
        "mercado_1['Cantidad']='1'\n",
        "mercado_1['Marca']='ROA'\n",
        "mercado_1['peso']='1libra'\n",
        "mercado_1['Precio']=2500\n",
        "\n",
        "mercado_2={}\n",
        "mercado_2['Producto']='Frijol'\n",
        "mercado_2['Cantidad']='1'\n",
        "mercado_2['Marca']='Nuevo'\n",
        "mercado_2['peso']='1libra'\n",
        "mercado_2['Precio']=1500\n",
        "print(mercado_0)\n",
        "print(mercado_1)\n",
        "print(mercado_2)\n",
        "\n",
        "compra0=mercado_0['Precio']\n",
        "compra1=mercado_1['Precio']\n",
        "compra2=mercado_2['Precio']\n",
        "compratotal=compra0+compra1+compra2\n",
        "\n",
        "porcentaje=(mercado_1['Precio']*100)/mercado_0['Precio']\n",
        "\n",
        "print(\"la compra total es de:\", compratotal)\n",
        "print(\"porcentaje es de:\" , porcentaje)\n",
        "\n",
        "\n",
        "\n",
        "\n"
      ],
      "execution_count": 25,
      "outputs": [
        {
          "output_type": "stream",
          "name": "stdout",
          "text": [
            "{'Producto': 'Leche', 'Cantidad': '1', 'Marca': 'Colanta', 'Envase': 'tetrapack', 'Precio': 3000}\n",
            "{'Producto': 'Arroz', 'Cantidad': '1', 'Marca': 'ROA', 'peso': '1libra', 'Precio': 2500}\n",
            "{'Producto': 'Frijol', 'Cantidad': '1', 'Marca': 'Nuevo', 'peso': '1libra', 'Precio': 1500}\n",
            "la compra total es de: 7000\n",
            "porcentaje es de: 83.33333333333333\n"
          ]
        }
      ]
    }
  ]
}