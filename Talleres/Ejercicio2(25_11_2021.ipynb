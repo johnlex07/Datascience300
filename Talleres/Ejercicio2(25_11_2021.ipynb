{
  "nbformat": 4,
  "nbformat_minor": 0,
  "metadata": {
    "colab": {
      "name": "Ejercicio2(25_11_2021.ipynb",
      "provenance": [],
      "authorship_tag": "ABX9TyN3IClKXBrZXy7h4cZJzgt5",
      "include_colab_link": true
    },
    "kernelspec": {
      "name": "python3",
      "display_name": "Python 3"
    },
    "language_info": {
      "name": "python"
    }
  },
  "cells": [
    {
      "cell_type": "markdown",
      "metadata": {
        "id": "view-in-github",
        "colab_type": "text"
      },
      "source": [
        "<a href=\"https://colab.research.google.com/github/johnlex07/Datascience300/blob/main/Talleres/Ejercicio2(25_11_2021.ipynb\" target=\"_parent\"><img src=\"https://colab.research.google.com/assets/colab-badge.svg\" alt=\"Open In Colab\"/></a>"
      ]
    },
    {
      "cell_type": "markdown",
      "metadata": {
        "id": "0y6YCBjH2O9U"
      },
      "source": [
        "Ejercicio 1 : Listas\n",
        "Tienen la siguiente lista🏀⚾⚽🥤⭐\n",
        "\n",
        "list1 = [10, 20, [300, 400, [5000, 6000], 500], 30, 40]\n",
        "\n",
        "Se desea obtener el siguiente output pero usando solo el metódo append:\n",
        "\n",
        "[10, 20, [300, 400, [5000, 6000, 7000], 500], 30, 40]"
      ]
    },
    {
      "cell_type": "code",
      "metadata": {
        "colab": {
          "base_uri": "https://localhost:8080/"
        },
        "id": "TsSFfIwR2RxT",
        "outputId": "b20cd735-43c1-4004-a041-bd45f7724ea3"
      },
      "source": [
        "list1=[10,20,[300,400,[5000,6000],500],30,40]\n",
        "print(list1)\n",
        "list1[2][2].append(7000)\n",
        "print(list1)"
      ],
      "execution_count": 4,
      "outputs": [
        {
          "output_type": "stream",
          "name": "stdout",
          "text": [
            "[10, 20, [300, 400, [5000, 6000], 500], 30, 40]\n",
            "[10, 20, [300, 400, [5000, 6000, 7000], 500], 30, 40]\n"
          ]
        }
      ]
    },
    {
      "cell_type": "markdown",
      "metadata": {
        "id": "O8-wNh7f2-xT"
      },
      "source": [
        "Ejercicio 2 : Sets\n",
        "Dados los siguientes conjuntos⛹✅☁⚽✨\n",
        "\n",
        "s1 = {10, 20, 30, 40, 50}\n",
        "\n",
        "s2 = {30, 40, 50, 60, 70}\n",
        "\n",
        "1. Como es posible obtener el siguiente output con alguno de los metódos vistos para sets\n",
        "{40, 50, 30}\n",
        "\n",
        "2. Como es posible obtener el siguiente output con alguno de los metódos vistos para sets\n",
        "{70, 40, 10, 50, 20, 60, 30}\n",
        "\n",
        "3. Extraer todos los elementos de s2 que no estan en s1"
      ]
    },
    {
      "cell_type": "code",
      "metadata": {
        "colab": {
          "base_uri": "https://localhost:8080/"
        },
        "id": "4m8NUe263DzD",
        "outputId": "95edfee0-50f8-4ec9-cb22-38bc480e5196"
      },
      "source": [
        "s1 = {10, 20, 30, 40, 50}\n",
        "print(s1)\n",
        "s2 = {30, 40, 50, 60, 70}\n",
        "print(s2)\n",
        "print('Punto 1')\n",
        "print(s2.intersection(s1))\n",
        "print('Punto 2')\n",
        "print(s1.union(s2))\n",
        "print('Punto 3')\n",
        "print(s2.difference(s1))"
      ],
      "execution_count": 9,
      "outputs": [
        {
          "output_type": "stream",
          "name": "stdout",
          "text": [
            "{40, 10, 50, 20, 30}\n",
            "{70, 40, 50, 60, 30}\n",
            "Punto 1\n",
            "{40, 50, 30}\n",
            "Punto 2\n",
            "{70, 40, 10, 50, 20, 60, 30}\n",
            "Punto 3\n",
            "{60, 70}\n"
          ]
        }
      ]
    },
    {
      "cell_type": "markdown",
      "metadata": {
        "id": "vCWMrenm47FW"
      },
      "source": [
        "Ejercicio 3: Tuplas\n",
        "Dada la siguiente tupla✈⏰♒⛹\n",
        "\n",
        "tupla=(10, 20, 30, 40, 50)\n",
        "\n",
        "Responder:\n",
        "\n",
        "1. Ordenar la tupla de mayor a menor\n",
        "2. Extraer los valores de la tupla en las siguientes variables: a,b,c,d,e\n",
        "3. Ahora suponga que tiene la siguiente tupla: tupla_d = (11, [22, 33], 44, 55) Recordando el concepto de inmutabilidad de las tuplas, sería posible poder modificar el valor 22 por 222 o en este caso no se puede?. Justifiquen"
      ]
    },
    {
      "cell_type": "code",
      "metadata": {
        "colab": {
          "base_uri": "https://localhost:8080/"
        },
        "id": "suTi0ycj5aiG",
        "outputId": "b2380b54-2920-4c6c-8699-c253901bc5e3"
      },
      "source": [
        "import numpy as np\n",
        "tupla=(10,20,30,40,50)\n",
        "print(tupla)\n",
        "print('Parte 1')\n",
        "print(tupla[::-1])\n",
        "print('Parte 2')\n",
        "a,b,c,d,e=tupla\n",
        "print(a,b,c,d,e)\n",
        "print('Parte 3')\n",
        "tupla_d = (11, [22, 33], 44, 55)\n",
        "tupla_d[1][0] = 222\n",
        "print(tupla_d)"
      ],
      "execution_count": 17,
      "outputs": [
        {
          "output_type": "stream",
          "name": "stdout",
          "text": [
            "(10, 20, 30, 40, 50)\n",
            "Parte 1\n",
            "(50, 40, 30, 20, 10)\n",
            "Parte 2\n",
            "10 20 30 40 50\n",
            "Parte 3\n",
            "(11, [222, 33], 44, 55)\n"
          ]
        }
      ]
    },
    {
      "cell_type": "markdown",
      "metadata": {
        "id": "VvCeC9BS_40o"
      },
      "source": [
        "## Ejercicio 4: Diccionarios\n",
        "\n",
        "1. Supongan que tienen el siguiente diccionario similar a lo que se obtiene de una API ([texto del enlace](https://www.freecodecamp.org/news/what-is-an-api-in-english-please-b880a3214a82/)) \n",
        "```\n",
        "dict_david = {\n",
        "    \"clase\": {\n",
        "        \"estudiante\": {\n",
        "            \"nombre\": \"David\",\n",
        "            \"notas\": {\n",
        "                \"fisica\": 4.9,\n",
        "                \"matematicas\": 4.8\n",
        "            }\n",
        "        }\n",
        "    }\n",
        "}\n",
        "```\n",
        "\n",
        "Como se puede obtener el valor respectivo para la llave primaria ```matematicas```❗♥♨ℹ\n",
        "\n",
        "2. Con base en el siguiente diccionario, renombrar la llave primaria ciudad por ubicacion 🥱⏬⚡✉\n",
        "\n",
        "```dic_prueba = {\n",
        "  \"nombre\": \"Juan\",\n",
        "  \"edad\":25,\n",
        "  \"salario\": 8000000,\n",
        "  \"ciudad\": \"Santiago\"\n",
        "}\n",
        "```\n",
        "\n",
        "3. Obtener la llave primaria del valor minimo para el siguiente diccionario 😶🧵⚔♦\n",
        "\n",
        "```\n",
        "dicc = {\n",
        "  'Bayesiana': 4.5,\n",
        "  'Series Tiempo': 4.6,\n",
        "  'Calculo Actuarial': 4.2\n",
        "}\n",
        "```\n",
        "\n",
        "4. Con base en el siguiente diccionario✈⚔😀😼\n",
        "```\n",
        "dict_a = {\n",
        "    'e1': {'nombre': 'David', 'salario': 12000000},\n",
        "    'e2': {'nombre': 'Juan', 'salario': 7590000},\n",
        "    'e3': {'nombre': 'Amir', 'salario': 6787000}\n",
        "}\n",
        "```\n",
        "Reemplazar el valor de 7590000 de Juan por 8000000."
      ]
    },
    {
      "cell_type": "code",
      "metadata": {
        "colab": {
          "base_uri": "https://localhost:8080/"
        },
        "id": "hsdFWarH8Vh9",
        "outputId": "ad16da2e-317a-4881-e53e-ac1b32d3d149"
      },
      "source": [
        "print('Punto 1')\n",
        "dict_david = {\n",
        " \"clase\": {\n",
        "     \"estudiante\": {\n",
        "         \"nombre\": \"David\",\n",
        "         \"notas\": {\n",
        "             \"fisica\": 4.9,\n",
        "             \"matematicas\": 4.8\n",
        "         }\n",
        "     }\n",
        " }\n",
        "}\n",
        "print(dict_david)\n",
        "print(dict_david['clase']['estudiante']['notas']['matematicas'])\n",
        "\n",
        "print('Punto 2')\n",
        "dicc = { \"nombre\": \"Juan\",\n",
        "  \"edad\":25,\n",
        "  \"salario\": 8000000,\n",
        "  \"ciudad\": \"Santiago\"\n",
        "}\n",
        "print(dicc)\n",
        "    \n",
        "dicc['ubicacion'] = dicc.pop('ciudad')\n",
        "print(dicc)"
      ],
      "execution_count": 20,
      "outputs": [
        {
          "output_type": "stream",
          "name": "stdout",
          "text": [
            "Punto 1\n",
            "{'clase': {'estudiante': {'nombre': 'David', 'notas': {'fisica': 4.9, 'matematicas': 4.8}}}}\n",
            "4.8\n",
            "Punto 2\n",
            "{'nombre': 'Juan', 'edad': 25, 'salario': 8000000, 'ciudad': 'Santiago'}\n",
            "{'nombre': 'Juan', 'edad': 25, 'salario': 8000000, 'ubicacion': 'Santiago'}\n"
          ]
        }
      ]
    }
  ]
}