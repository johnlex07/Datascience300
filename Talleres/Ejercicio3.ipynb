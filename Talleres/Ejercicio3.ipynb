{
  "nbformat": 4,
  "nbformat_minor": 0,
  "metadata": {
    "colab": {
      "name": "Ejercicio3.ipynb",
      "provenance": [],
      "authorship_tag": "ABX9TyPvY6+lGDS8EW59RY4f4i7M",
      "include_colab_link": true
    },
    "kernelspec": {
      "name": "python3",
      "display_name": "Python 3"
    },
    "language_info": {
      "name": "python"
    }
  },
  "cells": [
    {
      "cell_type": "markdown",
      "metadata": {
        "id": "view-in-github",
        "colab_type": "text"
      },
      "source": [
        "<a href=\"https://colab.research.google.com/github/johnlex07/Datascience300/blob/main/Talleres/Ejercicio3.ipynb\" target=\"_parent\"><img src=\"https://colab.research.google.com/assets/colab-badge.svg\" alt=\"Open In Colab\"/></a>"
      ]
    },
    {
      "cell_type": "markdown",
      "source": [
        "Ejercicio 1\n",
        "\n",
        "Escribir un programa para mostrar sólo los números de una lista (dada) que cumplan las condiciones siguientes ✈⏰♥⌛⛸🏀\n",
        "\n",
        "lista = [14, 75, 150, 180, 145, 525, 50, 10, 56,55]\n",
        "\n",
        "1. El número debe ser divisible por cinco 🙏\n",
        "\n",
        "2. Si el número es mayor que 150, sáltelo y pase al siguiente número 🫂\n",
        "\n",
        "3. Si el número es mayor que 500, paren el bucle 🔊"
      ],
      "metadata": {
        "id": "EA_SIFNvKyZW"
      }
    },
    {
      "cell_type": "code",
      "source": [
        "import numpy as np\n",
        "a=[14, 75, 150, 180, 145, 525, 50, 10, 56,55]\n",
        "for i in a:\n",
        "      if i > 500:\n",
        "        break\n",
        "      elif i > 150:\n",
        "        pass \n",
        "      elif i % 5 == 0:\n",
        "        print(i)"
      ],
      "metadata": {
        "colab": {
          "base_uri": "https://localhost:8080/"
        },
        "id": "Ur9cpkrSedwD",
        "outputId": "d7816e2e-efe6-4591-b608-2f234cd1bf15"
      },
      "execution_count": 27,
      "outputs": [
        {
          "output_type": "stream",
          "name": "stdout",
          "text": [
            "75\n",
            "150\n",
            "145\n"
          ]
        }
      ]
    },
    {
      "cell_type": "markdown",
      "source": [
        "Ejercicio 2\n",
        "\n",
        "Escriba un programa para contar el número entero total de dígitos en un número usando un bucle while. ⚪❌💯👍⚡\n",
        "\n",
        "Por ejemplo, el número es 12345, por lo que la salida debe ser 5. 📷🥿🥲😕🔮"
      ],
      "metadata": {
        "id": "eGEXKXY2j16I"
      }
    },
    {
      "cell_type": "code",
      "source": [
        "numero = 12345\n",
        "while i >= 10:\n",
        "  \n",
        "\n",
        "\n"
      ],
      "metadata": {
        "colab": {
          "base_uri": "https://localhost:8080/",
          "height": 132
        },
        "id": "7wAPbDoGDyW8",
        "outputId": "570409d7-949c-4a8d-e47f-76bbcb517daf"
      },
      "execution_count": 4,
      "outputs": [
        {
          "output_type": "error",
          "ename": "SyntaxError",
          "evalue": "ignored",
          "traceback": [
            "\u001b[0;36m  File \u001b[0;32m\"<ipython-input-4-efbd56946ec7>\"\u001b[0;36m, line \u001b[0;32m4\u001b[0m\n\u001b[0;31m    \u001b[0m\n\u001b[0m    ^\u001b[0m\n\u001b[0;31mSyntaxError\u001b[0m\u001b[0;31m:\u001b[0m unexpected EOF while parsing\n"
          ]
        }
      ]
    }
  ]
}