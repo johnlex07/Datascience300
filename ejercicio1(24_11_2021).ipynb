{
  "nbformat": 4,
  "nbformat_minor": 0,
  "metadata": {
    "colab": {
      "name": "ejercicio1(24/11/2021).ipynb",
      "provenance": [],
      "authorship_tag": "ABX9TyPspjsrkeWKsXX1foZMBEGO",
      "include_colab_link": true
    },
    "kernelspec": {
      "name": "python3",
      "display_name": "Python 3"
    },
    "language_info": {
      "name": "python"
    }
  },
  "cells": [
    {
      "cell_type": "markdown",
      "metadata": {
        "id": "view-in-github",
        "colab_type": "text"
      },
      "source": [
        "<a href=\"https://colab.research.google.com/github/johnlex07/Datascience300/blob/main/ejercicio1(24_11_2021).ipynb\" target=\"_parent\"><img src=\"https://colab.research.google.com/assets/colab-badge.svg\" alt=\"Open In Colab\"/></a>"
      ]
    },
    {
      "cell_type": "markdown",
      "metadata": {
        "id": "m0XlDu5hKqTQ"
      },
      "source": [
        "Ejericicio 1.\n",
        "\n",
        "Creen un vector a entre 5 y 6 con intervalo de 0.2 y guardenlo en formato datos.npy y luego carguenlo con nombre b y muestrelo"
      ]
    },
    {
      "cell_type": "code",
      "metadata": {
        "colab": {
          "base_uri": "https://localhost:8080/"
        },
        "id": "LOuELXCRxr5X",
        "outputId": "9d7170dd-ee6c-4112-fcea-f887f212c2be"
      },
      "source": [
        "from google.colab import drive\n",
        "import os\n",
        "drive.mount('/content/gdrive')"
      ],
      "execution_count": null,
      "outputs": [
        {
          "output_type": "stream",
          "name": "stdout",
          "text": [
            "Mounted at /content/gdrive\n"
          ]
        }
      ]
    },
    {
      "cell_type": "code",
      "metadata": {
        "colab": {
          "base_uri": "https://localhost:8080/"
        },
        "id": "y22qaiRyyAgk",
        "outputId": "b4693909-b40a-459a-a49e-47d880da91d5"
      },
      "source": [
        "%cd '/content/gdrive/MyDrive/bootcamp/Semana 1-20211126T000634Z-001'"
      ],
      "execution_count": null,
      "outputs": [
        {
          "output_type": "stream",
          "name": "stdout",
          "text": [
            "/content/gdrive/MyDrive/bootcamp/Semana 1-20211126T000634Z-001\n"
          ]
        }
      ]
    },
    {
      "cell_type": "code",
      "metadata": {
        "id": "ZZll5bMdKxaS",
        "colab": {
          "base_uri": "https://localhost:8080/"
        },
        "outputId": "69225c77-b1c9-471c-d600-fe89980ffab6"
      },
      "source": [
        "import numpy as np\n",
        "\n",
        "a=np.arange(5,6,0.2)\n",
        "print(a.tolist())\n",
        "a.tofile('datos.npy')\n",
        "b=np.fromfile('datos.npy')\n",
        "print(b)\n",
        "\n",
        "\n",
        "\n"
      ],
      "execution_count": 21,
      "outputs": [
        {
          "output_type": "stream",
          "name": "stdout",
          "text": [
            "[5.0, 5.2, 5.4, 5.6000000000000005, 5.800000000000001]\n",
            "[5.  5.2 5.4 5.6 5.8]\n"
          ]
        }
      ]
    },
    {
      "cell_type": "markdown",
      "metadata": {
        "id": "VtIlXEYq3vng"
      },
      "source": [
        "Ejercicio 2\n",
        "Cree un una matriz A con np.array\n",
        "\n",
        "\\begin{equation}\n",
        "\\begin{bmatrix}\n",
        "1 & 3 & 5\\\\\n",
        "11 & 9 & 7\\\\\n",
        "13 & 15 & 17\n",
        "\\end{bmatrix}\n",
        "\\end{equation}\n",
        "\n",
        "Luego de eso utilize el metodo np.sort con el argumento axis =1 or axis=0\n",
        "\n",
        "A que conclusiones llegan?"
      ]
    },
    {
      "cell_type": "code",
      "metadata": {
        "colab": {
          "base_uri": "https://localhost:8080/"
        },
        "id": "IuxchvF74MVQ",
        "outputId": "419e74d7-0eb4-48d0-952c-a290489dcd82"
      },
      "source": [
        "A=np.array([[1,3,5],[11,9,7],[13,15,17]])\n",
        "print(A)\n",
        "B=np.sort(A,axis=0)\n",
        "print(B)\n",
        "C=np.sort(A,axis=1)\n",
        "print(C)\n",
        "\n"
      ],
      "execution_count": 43,
      "outputs": [
        {
          "output_type": "stream",
          "name": "stdout",
          "text": [
            "[[ 1  3  5]\n",
            " [11  9  7]\n",
            " [13 15 17]]\n",
            "[[ 1  3  5]\n",
            " [11  9  7]\n",
            " [13 15 17]]\n",
            "[[ 1  3  5]\n",
            " [ 7  9 11]\n",
            " [13 15 17]]\n"
          ]
        }
      ]
    },
    {
      "cell_type": "markdown",
      "metadata": {
        "id": "NZfbYR1D2wNT"
      },
      "source": [
        "Ejercicio 3\n",
        "Cree una matriz de 3x3 B, como la siguiente:\n",
        "\\begin{equation}\n",
        "\\begin{bmatrix}\n",
        "9 & 1 & 2\\\\\n",
        "1 & 9 & 5\\\\\n",
        "2 & 5 & 9\n",
        "\\end{bmatrix}\n",
        "\\end{equation}\n",
        "\n",
        "1. Convierta la matriz a un vector de 1x9\n",
        "2. Ordene de de menor a mayor el vector\n",
        "3. Aplique un filtro para extraer solo los numeros menores que 9"
      ]
    },
    {
      "cell_type": "code",
      "metadata": {
        "colab": {
          "base_uri": "https://localhost:8080/"
        },
        "id": "hJfrfill3bJp",
        "outputId": "d1dd6547-db00-490e-e588-47c7dc4f6e95"
      },
      "source": [
        "A=np.array([[9,1,2],[1,9,5],[2,5,9]])\n",
        "print(A)\n",
        "print('parte 1')\n",
        "print(A.flatten())\n",
        "print('parte 2')\n",
        "b=np.sort(A.flatten())\n",
        "print(b)\n",
        "print('parte 3')\n",
        "c=numpy.where(b<9)\n",
        "print(c)\n",
        "\n"
      ],
      "execution_count": 41,
      "outputs": [
        {
          "output_type": "stream",
          "name": "stdout",
          "text": [
            "[[9 1 2]\n",
            " [1 9 5]\n",
            " [2 5 9]]\n",
            "parte 1\n",
            "[9 1 2 1 9 5 2 5 9]\n",
            "parte 2\n",
            "[1 1 2 2 5 5 9 9 9]\n",
            "parte 3\n",
            "(array([0, 1, 2, 3, 4, 5]),)\n"
          ]
        }
      ]
    },
    {
      "cell_type": "markdown",
      "metadata": {
        "id": "_wwGZjsJhyxC"
      },
      "source": [
        "Ejercicio 4\n",
        "Cree una matriz de 3x3 C, como la siguiente:\n",
        "\\begin{equation}\n",
        "\\begin{bmatrix}\n",
        "1 & 4 & 7\\\\\n",
        "2 & 5 & 8\\\\\n",
        "3 & 6 & 9\n",
        "\\end{bmatrix}\n",
        "\\end{equation}\n",
        "\n",
        "1. Calcule la media por cada columna\n",
        "2. Calcule la media por cada fila\n",
        "3. Obtenga la media por columnas dandole el doble de peso a la columna con mayores valores de la variable\n",
        "5. Calcule el percentil 25 por cada columna"
      ]
    },
    {
      "cell_type": "code",
      "metadata": {
        "colab": {
          "base_uri": "https://localhost:8080/"
        },
        "id": "UH0cnRrSIEYu",
        "outputId": "ea8e3a43-3994-4454-abb7-5a0d2ccf19ba"
      },
      "source": [
        "C=np.array([[1,4,7],[2,5,8],[3,6,9]])\n",
        "print(C)\n",
        "print('parte 1')\n",
        "print(np.mean(C,axis=1))\n",
        "print('parte 2')\n",
        "print(np.mean(C,axis=0))\n",
        "print('parte 3')\n",
        "print(np.average(C,axis=1, weights=(1,1,2)))\n",
        "print('parte 4')\n",
        "print(np.percentile(C,25,axis=1))\n"
      ],
      "execution_count": 62,
      "outputs": [
        {
          "output_type": "stream",
          "name": "stdout",
          "text": [
            "[[1 4 7]\n",
            " [2 5 8]\n",
            " [3 6 9]]\n",
            "parte 1\n",
            "[4. 5. 6.]\n",
            "parte 2\n",
            "[2. 5. 8.]\n",
            "parte 3\n",
            "[4.75 5.75 6.75]\n",
            "parte 4\n",
            "[2.5 3.5 4.5]\n"
          ]
        }
      ]
    }
  ]
}